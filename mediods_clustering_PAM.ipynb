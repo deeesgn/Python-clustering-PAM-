{
 "cells": [
  {
   "cell_type": "code",
   "execution_count": 1,
   "id": "685c7201-dc6f-438c-9f9b-8b3a260105c9",
   "metadata": {},
   "outputs": [],
   "source": [
    "import numpy as np\n",
    "import pandas as pd\n",
    "import matplotlib.pyplot as plt\n",
    "import seaborn as sns\n",
    "from sklearn.preprocessing import MinMaxScaler\n",
    "from sklearn.cluster import KMeans"
   ]
  },
  {
   "cell_type": "code",
   "execution_count": 2,
   "id": "9f71dcdf-4f01-48b7-b2f3-85508877c846",
   "metadata": {},
   "outputs": [],
   "source": [
    "df_start = pd.read_csv('Mall_Customers.csv')\n",
    "df_end = pd.read_csv('Mall_Customers (1).csv')"
   ]
  },
  {
   "cell_type": "code",
   "execution_count": 3,
   "id": "b381d0cd-eb52-4ec9-8066-486e1028af00",
   "metadata": {},
   "outputs": [
    {
     "data": {
      "text/html": [
       "<div>\n",
       "<style scoped>\n",
       "    .dataframe tbody tr th:only-of-type {\n",
       "        vertical-align: middle;\n",
       "    }\n",
       "\n",
       "    .dataframe tbody tr th {\n",
       "        vertical-align: top;\n",
       "    }\n",
       "\n",
       "    .dataframe thead th {\n",
       "        text-align: right;\n",
       "    }\n",
       "</style>\n",
       "<table border=\"1\" class=\"dataframe\">\n",
       "  <thead>\n",
       "    <tr style=\"text-align: right;\">\n",
       "      <th></th>\n",
       "      <th>CustomerID</th>\n",
       "      <th>Gender</th>\n",
       "      <th>Age</th>\n",
       "      <th>Annual Income (k$)</th>\n",
       "      <th>Spending Score (1-100)</th>\n",
       "    </tr>\n",
       "  </thead>\n",
       "  <tbody>\n",
       "    <tr>\n",
       "      <th>0</th>\n",
       "      <td>1</td>\n",
       "      <td>Male</td>\n",
       "      <td>19</td>\n",
       "      <td>15</td>\n",
       "      <td>39</td>\n",
       "    </tr>\n",
       "    <tr>\n",
       "      <th>1</th>\n",
       "      <td>2</td>\n",
       "      <td>Male</td>\n",
       "      <td>21</td>\n",
       "      <td>15</td>\n",
       "      <td>81</td>\n",
       "    </tr>\n",
       "    <tr>\n",
       "      <th>2</th>\n",
       "      <td>3</td>\n",
       "      <td>Female</td>\n",
       "      <td>20</td>\n",
       "      <td>16</td>\n",
       "      <td>6</td>\n",
       "    </tr>\n",
       "    <tr>\n",
       "      <th>3</th>\n",
       "      <td>4</td>\n",
       "      <td>Female</td>\n",
       "      <td>23</td>\n",
       "      <td>16</td>\n",
       "      <td>77</td>\n",
       "    </tr>\n",
       "    <tr>\n",
       "      <th>4</th>\n",
       "      <td>5</td>\n",
       "      <td>Female</td>\n",
       "      <td>31</td>\n",
       "      <td>17</td>\n",
       "      <td>40</td>\n",
       "    </tr>\n",
       "  </tbody>\n",
       "</table>\n",
       "</div>"
      ],
      "text/plain": [
       "   CustomerID  Gender  Age  Annual Income (k$)  Spending Score (1-100)\n",
       "0           1    Male   19                  15                      39\n",
       "1           2    Male   21                  15                      81\n",
       "2           3  Female   20                  16                       6\n",
       "3           4  Female   23                  16                      77\n",
       "4           5  Female   31                  17                      40"
      ]
     },
     "execution_count": 3,
     "metadata": {},
     "output_type": "execute_result"
    }
   ],
   "source": [
    "df_start.head()"
   ]
  },
  {
   "cell_type": "code",
   "execution_count": 4,
   "id": "63c4be6f-432a-4fc6-89ea-27ec316e3da4",
   "metadata": {},
   "outputs": [],
   "source": [
    "df_start['Gender'] = df_start['Gender'].map({'Male': 0, 'Female': 1})\n"
   ]
  },
  {
   "cell_type": "code",
   "execution_count": 5,
   "id": "2104ec5e-5083-4019-80a7-cddb327f97dc",
   "metadata": {},
   "outputs": [
    {
     "data": {
      "text/html": [
       "<div>\n",
       "<style scoped>\n",
       "    .dataframe tbody tr th:only-of-type {\n",
       "        vertical-align: middle;\n",
       "    }\n",
       "\n",
       "    .dataframe tbody tr th {\n",
       "        vertical-align: top;\n",
       "    }\n",
       "\n",
       "    .dataframe thead th {\n",
       "        text-align: right;\n",
       "    }\n",
       "</style>\n",
       "<table border=\"1\" class=\"dataframe\">\n",
       "  <thead>\n",
       "    <tr style=\"text-align: right;\">\n",
       "      <th></th>\n",
       "      <th>CustomerID</th>\n",
       "      <th>Gender</th>\n",
       "      <th>Age</th>\n",
       "      <th>Annual Income (k$)</th>\n",
       "      <th>Spending Score (1-100)</th>\n",
       "    </tr>\n",
       "  </thead>\n",
       "  <tbody>\n",
       "    <tr>\n",
       "      <th>count</th>\n",
       "      <td>200.000000</td>\n",
       "      <td>200.000000</td>\n",
       "      <td>200.000000</td>\n",
       "      <td>200.000000</td>\n",
       "      <td>200.000000</td>\n",
       "    </tr>\n",
       "    <tr>\n",
       "      <th>mean</th>\n",
       "      <td>100.500000</td>\n",
       "      <td>0.560000</td>\n",
       "      <td>0.400962</td>\n",
       "      <td>0.373443</td>\n",
       "      <td>0.502041</td>\n",
       "    </tr>\n",
       "    <tr>\n",
       "      <th>std</th>\n",
       "      <td>57.879185</td>\n",
       "      <td>0.497633</td>\n",
       "      <td>0.268635</td>\n",
       "      <td>0.215285</td>\n",
       "      <td>0.263505</td>\n",
       "    </tr>\n",
       "    <tr>\n",
       "      <th>min</th>\n",
       "      <td>1.000000</td>\n",
       "      <td>0.000000</td>\n",
       "      <td>0.000000</td>\n",
       "      <td>0.000000</td>\n",
       "      <td>0.000000</td>\n",
       "    </tr>\n",
       "    <tr>\n",
       "      <th>25%</th>\n",
       "      <td>50.750000</td>\n",
       "      <td>0.000000</td>\n",
       "      <td>0.206731</td>\n",
       "      <td>0.217213</td>\n",
       "      <td>0.344388</td>\n",
       "    </tr>\n",
       "    <tr>\n",
       "      <th>50%</th>\n",
       "      <td>100.500000</td>\n",
       "      <td>1.000000</td>\n",
       "      <td>0.346154</td>\n",
       "      <td>0.381148</td>\n",
       "      <td>0.500000</td>\n",
       "    </tr>\n",
       "    <tr>\n",
       "      <th>75%</th>\n",
       "      <td>150.250000</td>\n",
       "      <td>1.000000</td>\n",
       "      <td>0.596154</td>\n",
       "      <td>0.516393</td>\n",
       "      <td>0.734694</td>\n",
       "    </tr>\n",
       "    <tr>\n",
       "      <th>max</th>\n",
       "      <td>200.000000</td>\n",
       "      <td>1.000000</td>\n",
       "      <td>1.000000</td>\n",
       "      <td>1.000000</td>\n",
       "      <td>1.000000</td>\n",
       "    </tr>\n",
       "  </tbody>\n",
       "</table>\n",
       "</div>"
      ],
      "text/plain": [
       "       CustomerID      Gender         Age  Annual Income (k$)  \\\n",
       "count  200.000000  200.000000  200.000000          200.000000   \n",
       "mean   100.500000    0.560000    0.400962            0.373443   \n",
       "std     57.879185    0.497633    0.268635            0.215285   \n",
       "min      1.000000    0.000000    0.000000            0.000000   \n",
       "25%     50.750000    0.000000    0.206731            0.217213   \n",
       "50%    100.500000    1.000000    0.346154            0.381148   \n",
       "75%    150.250000    1.000000    0.596154            0.516393   \n",
       "max    200.000000    1.000000    1.000000            1.000000   \n",
       "\n",
       "       Spending Score (1-100)  \n",
       "count              200.000000  \n",
       "mean                 0.502041  \n",
       "std                  0.263505  \n",
       "min                  0.000000  \n",
       "25%                  0.344388  \n",
       "50%                  0.500000  \n",
       "75%                  0.734694  \n",
       "max                  1.000000  "
      ]
     },
     "execution_count": 5,
     "metadata": {},
     "output_type": "execute_result"
    }
   ],
   "source": [
    "c = ['Age', 'Annual Income (k$)', 'Spending Score (1-100)']\n",
    "df_start[c] = MinMaxScaler().fit_transform(df_start[c])\n",
    "df_start.describe()"
   ]
  },
  {
   "cell_type": "code",
   "execution_count": 6,
   "id": "c7f0315b-bf59-4932-9901-b152ed53edd8",
   "metadata": {},
   "outputs": [
    {
     "data": {
      "image/png": "[encoded data removed]",
      "text/plain": [
       "<Figure size 1000x800 with 2 Axes>"
      ]
     },
     "metadata": {},
     "output_type": "display_data"
    }
   ],
   "source": [
    "plt.figure(figsize=(10, 8))\n",
    "\n",
    "correlation_matrix = df_start[['Gender', 'Age', 'Annual Income (k$)', 'Spending Score (1-100)']].corr()\n",
    "\n",
    "sns.heatmap(correlation_matrix, annot=True, cmap='coolwarm', fmt='.2f', square=True)\n",
    "\n",
    "plt.show()"
   ]
  },
  {
   "cell_type": "code",
   "execution_count": 7,
   "id": "c2c3b16f-fee7-4fd3-90c3-970bcf7eb552",
   "metadata": {},
   "outputs": [
    {
     "data": {
      "image/png": "[encoded data removed]",
      "text/plain": [
       "<Figure size 1200x600 with 1 Axes>"
      ]
     },
     "metadata": {},
     "output_type": "display_data"
    }
   ],
   "source": [
    "# Определяем диапазон количества кластеров\n",
    "range_n_clusters = range(1, 11)\n",
    "\n",
    "# Подготовка данных для кластеризации\n",
    "data_to_cluster = df_start[['Gender', 'Age', 'Annual Income (k$)', 'Spending Score (1-100)']].values\n",
    "\n",
    "wss = []\n",
    "\n",
    "# Вычисление WSS для различного количества кластеров\n",
    "for n_clusters in range_n_clusters:\n",
    "    kmeans = KMeans(n_clusters=n_clusters, random_state=42)\n",
    "    kmeans.fit(data_to_cluster)\n",
    "    wss.append(kmeans.inertia_)\n",
    "\n",
    "# Построение графика метода локтя\n",
    "plt.figure(figsize=(12,6))\n",
    "plt.plot(range_n_clusters, wss, marker='o')\n",
    "plt.title('The Elbow Method for Determining Optimal Number of Clusters')\n",
    "plt.xlabel('Number of Clusters')\n",
    "plt.ylabel('Within-Cluster Sum of Square')\n",
    "plt.grid(True)\n",
    "plt.show()\n"
   ]
  },
  {
   "cell_type": "markdown",
   "id": "0cb90a13-5414-4f9b-a784-7391c8131a2a",
   "metadata": {},
   "source": [
    "Инициализация пустого списка WSS: Перед началом алгоритма создается пустой список, в который будут добавляться значения WSS для каждого количества кластеров.\r\n",
    "\r\n",
    "Цикл по количеству кластеров: Итерируем по предполагаемому диапазону количеств кластеров. В вашем примере это не показано, но, как правило, это может быть диапазон от 1 до 10 или больше.\r\n",
    "\r\n",
    "Кластеризация K-средних: На каждой итерации создается новый экземпляр алгоритма K-средних с указанным количеством кластеров n_clusters и фиксированным random_state для воспроизводимости результатов.\r\n",
    "\r\n",
    "Подгонка модели: Алгоритм K-средних применяется к данным с помощью метода .fit(), где data_to_cluster — это данные, которые необходимо кластеризовать.\r\n",
    "\r\n",
    "Добавление WSS в список: После обучения модели, значение инерции (которое является WSS) добавляется в список wss. Инерция (kmeans.inertia_) измеряет, насколько данные \"близки\" к их соответствующим центроидам — низкая инерция указывает на то, что кластеры хорошо разделены."
   ]
  },
  {
   "cell_type": "markdown",
   "id": "385aeeed-2c4f-4f70-9787-aec5e2673a10",
   "metadata": {},
   "source": [
    "Функция KMeans: Это конструктор класса, который создает объект K-средних. В конструкторе можно задать различные параметры, такие как количество кластеров (n_clusters), метод инициализации центроидов, количество итераций и так далее. Например, KMeans(n_clusters=n_clusters, random_state=42) создает объект K-средних, где n_clusters определяет желаемое количество кластеров, а random_state обеспечивает воспроизводимость результатов путем задания зерна для генератора случайных чисел."
   ]
  },
  {
   "cell_type": "markdown",
   "id": "33448b96-6f4c-4d09-aba5-cbb86fe47897",
   "metadata": {
    "jp-MarkdownHeadingCollapsed": true
   },
   "source": [
    "<h3>Инициализация медоидов</h3>"
   ]
  },
  {
   "cell_type": "markdown",
   "id": "0e1363fa-7566-43ac-9821-c4e70b92c70d",
   "metadata": {},
   "source": [
    "Инициализация медоидов путём случайного выбора k уникальных точек из набора данных.\n",
    "    \n",
    "Аргументы:\n",
    "X - массив признаков набора данных.\n",
    "k - количество кластеров, для которых нужно найти медоиды.\n",
    "    "
   ]
  },
  {
   "cell_type": "code",
   "execution_count": 8,
   "id": "2837b044-b0ed-41ef-9fd0-e307ed6872ee",
   "metadata": {},
   "outputs": [
    {
     "data": {
      "text/plain": [
       "array([[0.        , 0.11538462, 0.36885246, 0.52040816],\n",
       "       [0.        , 0.07692308, 0.04098361, 0.79591837],\n",
       "       [0.        , 0.80769231, 0.12295082, 0.03061224],\n",
       "       [0.        , 0.30769231, 0.51639344, 0.        ],\n",
       "       [0.        , 0.78846154, 0.45901639, 0.10204082],\n",
       "       [1.        , 0.01923077, 0.40983607, 0.5       ],\n",
       "       [1.        , 0.26923077, 0.2704918 , 0.46938776]])"
      ]
     },
     "execution_count": 8,
     "metadata": {},
     "output_type": "execute_result"
    }
   ],
   "source": [
    "def initialize_medoids(X, k):\n",
    "\n",
    "    np.random.seed(42)  # Для воспроизводимости результатов\n",
    "    initial_medoids_indices = np.random.choice(len(X), k, replace=False)\n",
    "    medoids = X[initial_medoids_indices]\n",
    "    \n",
    "    return medoids\n",
    "\n",
    "X = df_start.drop('CustomerID', axis=1).to_numpy()\n",
    "\n",
    "medoids = initialize_medoids(X, 7)\n",
    "medoids\n"
   ]
  },
  {
   "cell_type": "markdown",
   "id": "f3fc93ce-89ca-4340-ac5b-fd38b6b650a6",
   "metadata": {
    "jp-MarkdownHeadingCollapsed": true
   },
   "source": [
    "<h3>Функция расчёта расстояния:</h3>"
   ]
  },
  {
   "cell_type": "markdown",
   "id": "998270d8-0759-4b7f-a633-dd307055c556",
   "metadata": {},
   "source": [
    "a, b - два вектора между которыми нужно вычислить расстояние."
   ]
  },
  {
   "cell_type": "code",
   "execution_count": 9,
   "id": "748d73a7-bd25-48b3-91b2-e847f212afad",
   "metadata": {},
   "outputs": [],
   "source": [
    "def euclidean_distance(a, b):\n",
    "    return np.sqrt(np.sum((a - b) ** 2))\n"
   ]
  },
  {
   "cell_type": "markdown",
   "id": "253be92b-3bf4-4f6e-97fb-3d765c1c5dfe",
   "metadata": {},
   "source": [
    "<h3>Функция присваивания к кластерам:</h3>"
   ]
  },
  {
   "cell_type": "markdown",
   "id": "f75be2cb-f092-47d6-962c-a741844c19d1",
   "metadata": {},
   "source": [
    "Присваивает каждую точку в X к ближайшему медоиду.    \n",
    "Аргументы:\n",
    "X - массив точек для кластеризации.\n",
    "medoids - текущие медоиды кластеров.\n",
    "    "
   ]
  },
  {
   "cell_type": "code",
   "execution_count": 10,
   "id": "d9008a7f-3106-419b-b460-648b2b4e3c4e",
   "metadata": {},
   "outputs": [],
   "source": [
    "def assign_to_closest_medoid(X, medoids):\n",
    "    \"\"\"\n",
    "    Присваивает каждую точку в X к ближайшему медоиду.\n",
    "    \n",
    "    Аргументы:\n",
    "    X - массив точек для кластеризации.\n",
    "    medoids - текущие медоиды кластеров.\n",
    "    \n",
    "    Возвращает:\n",
    "    Массив индексов кластеров, к которым присвоена каждая точка.\n",
    "    \"\"\"\n",
    "    clusters = np.zeros(len(X))\n",
    "    \n",
    "    for i, point in enumerate(X):\n",
    "        # Вычисляем расстояние от точки до каждого медоида\n",
    "        distances = np.array([euclidean_distance(point, medoid) for medoid in medoids])\n",
    "        # Находим ближайший медоид и присваиваем точку его кластеру\n",
    "        clusters[i] = np.argmin(distances)\n",
    "    \n",
    "    return clusters"
   ]
  },
  {
   "cell_type": "code",
   "execution_count": 11,
   "id": "4c57e307-9da3-455e-ba6c-bd85f6617b55",
   "metadata": {},
   "outputs": [
    {
     "data": {
      "text/plain": [
       "array([0., 1., 6., 6., 6., 6., 6., 6., 2., 6., 2., 6., 6., 6., 2., 1., 6.,\n",
       "       1., 2., 6., 0., 1., 6., 1., 6., 1., 6., 1., 6., 6., 2., 6., 2., 1.,\n",
       "       6., 5., 6., 6., 6., 5., 6., 1., 2., 6., 6., 6., 6., 6., 6., 6., 6.,\n",
       "       0., 6., 4., 6., 4., 6., 4., 6., 4., 4., 0., 6., 6., 4., 0., 6., 6.,\n",
       "       0., 6., 4., 6., 6., 6., 4., 0., 6., 0., 5., 6., 4., 0., 4., 6., 5.,\n",
       "       4., 6., 5., 6., 6., 6., 0., 4., 6., 6., 0., 6., 6., 4., 0., 5., 6.,\n",
       "       4., 0., 0., 5., 6., 4., 4., 4., 4., 5., 6., 0., 5., 5., 6., 6., 6.,\n",
       "       6., 0., 6., 6., 0., 5., 6., 3., 0., 4., 0., 4., 0., 5., 6., 3., 5.,\n",
       "       6., 0., 3., 6., 6., 0., 5., 5., 3., 0., 4., 5., 6., 0., 3., 0., 6.,\n",
       "       6., 6., 5., 3., 5., 3., 5., 6., 5., 3., 5., 4., 6., 3., 5., 6., 0.,\n",
       "       3., 0., 3., 0., 6., 5., 4., 0., 4., 0., 6., 5., 3., 5., 6., 0., 6.,\n",
       "       0., 6., 5., 5., 5., 3., 5., 6., 5., 6., 0., 3., 0.])"
      ]
     },
     "execution_count": 11,
     "metadata": {},
     "output_type": "execute_result"
    }
   ],
   "source": [
    "assigned_clusters = assign_to_closest_medoid(X, medoids)\n",
    "assigned_clusters"
   ]
  },
  {
   "cell_type": "markdown",
   "id": "5effd4c8-981d-422b-bbae-0ac1a5856a22",
   "metadata": {},
   "source": [
    "<h3>Обновление медоидов</h3>"
   ]
  },
  {
   "cell_type": "code",
   "execution_count": 12,
   "id": "f0404070-c342-49e5-99df-8b2074ecf73d",
   "metadata": {},
   "outputs": [
    {
     "data": {
      "text/plain": [
       "array([[0.        , 0.26923077, 0.47540984, 0.73469388],\n",
       "       [0.        , 0.13461538, 0.07377049, 0.73469388],\n",
       "       [0.        , 0.80769231, 0.12295082, 0.03061224],\n",
       "       [0.        , 0.34615385, 0.59016393, 0.09183673],\n",
       "       [0.        , 0.78846154, 0.31967213, 0.46938776],\n",
       "       [1.        , 0.23076923, 0.51639344, 0.73469388],\n",
       "       [1.        , 0.53846154, 0.31967213, 0.43877551]])"
      ]
     },
     "execution_count": 12,
     "metadata": {},
     "output_type": "execute_result"
    }
   ],
   "source": [
    "# Функция обновления медоидов\n",
    "def update_medoids(X, clusters, k):\n",
    "    \"\"\"\n",
    "    Находит новые медоиды для каждого кластера, минимизируя сумму расстояний \n",
    "    до всех точек в кластере.\n",
    "\n",
    "    Аргументы:\n",
    "    X - массив точек для кластеризации.\n",
    "    clusters - массив индексов кластеров, к которым присвоена каждая точка.\n",
    "    k - количество кластеров.\n",
    "\n",
    "    Возвращает:\n",
    "    new_medoids - массив новых медоидов для каждого кластера.\n",
    "    \"\"\"\n",
    "    new_medoids = np.zeros((k, X.shape[1]))\n",
    "    \n",
    "    for i in range(k):\n",
    "        # Выбираем все точки, принадлежащие кластеру i\n",
    "        points_in_cluster = X[clusters == i]\n",
    "        \n",
    "        # Если кластер не пустой, обновляем медоид\n",
    "        if len(points_in_cluster) > 0:\n",
    "            # Вычисляем сумму расстояний от каждой точки до всех остальных в кластере\n",
    "            distance_sum = np.sum(np.sqrt(((points_in_cluster - points_in_cluster[:, np.newaxis])**2).sum(axis=2)), axis=1)\n",
    "            \n",
    "            # Новый медоид - точка с минимальной суммой расстояний\n",
    "            new_medoids[i] = points_in_cluster[np.argmin(distance_sum)]\n",
    "    \n",
    "    return new_medoids\n",
    "\n",
    "# Теперь выполним функцию обновления медоидов\n",
    "# Предположим, что 'assigned_clusters' содержит индексы кластеров для каждой точки\n",
    "new_medoids = update_medoids(X, assigned_clusters, 7)\n",
    "new_medoids\n"
   ]
  },
  {
   "cell_type": "code",
   "execution_count": 13,
   "id": "8e261f7f-667c-45ce-b14b-5b86d484b16d",
   "metadata": {},
   "outputs": [
    {
     "data": {
      "text/plain": [
       "True"
      ]
     },
     "execution_count": 13,
     "metadata": {},
     "output_type": "execute_result"
    }
   ],
   "source": [
    "new_assigned_clusters = assign_to_closest_medoid(X, new_medoids)\n",
    "\n",
    "# Сравнение нового присвоения с предыдущим для проверки, изменилась ли принадлежность точек к кластерам\n",
    "clusters_changed = not np.array_equal(assigned_clusters, new_assigned_clusters)\n",
    "clusters_changed"
   ]
  },
  {
   "cell_type": "code",
   "execution_count": null,
   "id": "0727b2b1-66f5-41df-addf-ffa49723f000",
   "metadata": {},
   "outputs": [],
   "source": []
  },
  {
   "cell_type": "code",
   "execution_count": null,
   "id": "befb88e7-4e30-472b-b168-0e84f59b543a",
   "metadata": {},
   "outputs": [],
   "source": []
  }
 ],
 "metadata": {
  "kernelspec": {
   "display_name": "Python 3 (ipykernel)",
   "language": "python",
   "name": "python3"
  },
  "language_info": {
   "codemirror_mode": {
    "name": "ipython",
    "version": 3
   },
   "file_extension": ".py",
   "mimetype": "text/x-python",
   "name": "python",
   "nbconvert_exporter": "python",
   "pygments_lexer": "ipython3",
   "version": "3.11.4"
  }
 },
 "nbformat": 4,
 "nbformat_minor": 5
}
